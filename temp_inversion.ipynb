{
 "cells": [
  {
   "cell_type": "code",
   "execution_count": 1,
   "metadata": {},
   "outputs": [],
   "source": [
    "import numpy as np\n",
    "from math import tan, pi\n",
    "from scipy.interpolate import griddata\n",
    "import matplotlib.pyplot as plt\n",
    "from matplotlib import cm "
   ]
  },
  {
   "cell_type": "code",
   "execution_count": 2,
   "metadata": {},
   "outputs": [],
   "source": [
    "# load tomography and iasp model\n",
    "Pwave = np.loadtxt(\"berk_model_2015.txt\") #tomography model\n",
    "iasp  = np.loadtxt(\"IASP.txt\");\n",
    "adiabat = np.loadtxt('adiabat_ceus.txt') # adiabatic temp 1300 for depths <410 km\n",
    "T_ref = np.loadtxt('reference_temp.txt')\n",
    "d = ( Pwave[:,2] <= 660.) & ( Pwave[:,2] > 40. ) # last depth used in the current model\n",
    "bffer    = Pwave[:,2] == 60 # to fill the model to top\n",
    "longitde = Pwave[d,1]\n",
    "latitude = Pwave[d,0]\n",
    "depth    = Pwave[d,2]\n",
    "delta_vp = Pwave[d,3]\n",
    "delta_vp[np.where(delta_vp >= 5)] = 5 # at deeper depths\n",
    "delta_vp[np.where(delta_vp <= -5)] = -5"
   ]
  },
  {
   "cell_type": "code",
   "execution_count": 14,
   "metadata": {},
   "outputs": [],
   "source": [
    "# root well defined\n",
    "delta_vp[ (depth >=140) & (delta_vp >= 2) & (longitde >= -90.5) & (longitde < -84) & \\\n",
    "        (latitude > 33.) & (latitude < 37.)] = 0."
   ]
  },
  {
   "cell_type": "code",
   "execution_count": 3,
   "metadata": {},
   "outputs": [],
   "source": [
    "# interpolate the tomography on a grid\n",
    "npts   = 150\n",
    "lat_q  = np.linspace(min(latitude), max(latitude), npts)\n",
    "long_q = np.linspace(min(longitde), max(longitde), npts)\n",
    "d_q    = np.unique(depth)\n",
    "(grid_y, grid_x) = np.meshgrid(lat_q, long_q)\n",
    "pnts   = np.column_stack((Pwave[bffer, 0], Pwave[bffer, 1])) # everything tested on small data-set\n",
    "\n",
    "grid_vp = dT_p = np.ones((len(d_q), npts, npts))\n",
    "\n",
    "for j in range(len(d_q)):\n",
    "    grid_vp[j, :, :]   = griddata(pnts, delta_vp[19043*j:19043 + 19043*j], \\\n",
    "                               (grid_y, grid_x), method='nearest')\n",
    "    \n",
    "longitde = np.reshape(np.tile(grid_x, (len(d_q),1)), (npts*npts*len(d_q)))\n",
    "latitude = np.reshape(np.tile(grid_y, (len(d_q),1)), (npts*npts*len(d_q)))\n",
    "depth    = np.reshape(np.repeat(d_q, npts*npts), (npts*npts*len(d_q)))\n",
    "delta_vp = np.reshape(grid_vp,(npts*npts*len(d_q)))"
   ]
  },
  {
   "cell_type": "code",
   "execution_count": 4,
   "metadata": {},
   "outputs": [],
   "source": [
    "# define mineral physics constants used in this study \n",
    "# this data is changed for depths between 410 to 660 km\n",
    "data = np.array([('ol', 0.83, 4.2, 1.4, -0.017e9, -0.014e9, 129e9, 81e9, 3222, 0.201e-4, 0.139e-7, 0.1627e-2, \n",
    "                  1.658e2, 0.2332e-2, -0.3971e7) , \n",
    "       ('opx', 0.15, 7, 1.6, -0.027e9, -0.012e9, 109e9, 75e9, 3215, 0.3871e-4, 0.0446e-7, 0.03435e-2, \n",
    "       1.855e2, 0.233e-2, -0.6326e7) , \n",
    "       ('gt', 0.02, 4.4, 1.4, -0.019e9, -0.01e9, 171e9, 92e9, 3565, 0.0991e-4, 0.1165e-7, 1.0624e-2, \n",
    "       1.44e2, 0.188e-2, -0.135e7)], \n",
    "        dtype=[('name', 'U10'), ('conc', 'f4'), ('KPDer', 'f4'), ('MuPDer', 'f4'), \n",
    "        ('KTDer', 'f4'), ('MuTDer', 'f4'), ('K', 'f4'), ('Mu', 'f4'), ('rho', 'f4'), \n",
    "        ('a0', 'f4'), ('a1', 'f4'), ('a2', 'f4'), ('cp0', 'f4'), ('cp1', 'f4'), ('cp2', 'f4')])\n",
    "A = 1.48e-1 ; H = 500e3; V = 20e-6; a = 0.15\n",
    "R = 8.314"
   ]
  },
  {
   "cell_type": "code",
   "execution_count": null,
   "metadata": {},
   "outputs": [],
   "source": [
    "# define mineral physics constants used in this study for depths between 410 to 660 km \n",
    "# data = np.array([('wa', 0.6, 4.5, 1.5, -0.014e9, -0.014e9, 172e9, 121e9, 3472, 0.2319e-4, 0.0904e-7, -0.3966e-2, \n",
    "#                   1.7287e2, 1.1294e-2, -0.1077e7) , \n",
    "#        ('rg', 0.2, 4.1, 1.3, -0.024e9, -0.015e9, 185e9, 120e9, 3548, 0.1225e-4, 0.1104e-7, 0.2496e-2, \n",
    "#        1.585e2, 1.2205e-2, -1.2297e7) , \n",
    "#        ('mj', 0.2, 4.4, 1.4, -0.019e9, -0.01e9, 171e9, 92e9, 3565, 0.0991e-4, 0.1165e-7, 1.0624e-2, \n",
    "#        1.44e2, 0.188e-2, -0.135e7)], \n",
    "#         dtype=[('name', 'U10'), ('conc', 'f4'), ('KPDer', 'f4'), ('MuPDer', 'f4'), \n",
    "#         ('KTDer', 'f4'), ('MuTDer', 'f4'), ('K', 'f4'), ('Mu', 'f4'), ('rho', 'f4'), \n",
    "#         ('a0', 'f4'), ('a1', 'f4'), ('a2', 'f4'), ('cp0', 'f4'), ('cp1', 'f4'), ('cp2', 'f4')])\n",
    "# A = 1.48e-1 ; H = 500e3; V = 20e-6; a = 0.15\n",
    "# R = 8.314"
   ]
  },
  {
   "cell_type": "code",
   "execution_count": 5,
   "metadata": {},
   "outputs": [],
   "source": [
    "def density(a0, a1, a2, rho0, Ta):\n",
    "    T0=300.\n",
    "    return rho0 * np.exp(a0*(Ta - T0) + 0.5*a1*(Ta**2 - T0**2) + a2*(np.log(Ta) - np.log(T0)))"
   ]
  },
  {
   "cell_type": "code",
   "execution_count": 6,
   "metadata": {},
   "outputs": [],
   "source": [
    "def derivative (f, x, h, P, K, Kdash):\n",
    "    return (f(x+h, P, K, Kdash) - f(x-h, P, K, Kdash)) / (2.0*h) # might want to return a small non-zero if ==0\n",
    "\n",
    "def epsilon(x, P, K, Kdash):\n",
    "    return  ( (1 - 2*x) ** (5/2) ) * (3 * K * x + ( ( 9 * K * (4 - Kdash) )/ 2 ) * (x ** 2) )  + P \n",
    "\n",
    "def solve_ep (f, x0, h, P, K, Kdash):\n",
    "    lastX = x0\n",
    "    nextX = lastX + 10 * h  # \"different than lastX so loop starts OK\n",
    "    #print(abs(lastX - nextX)) \n",
    "    while (abs(lastX - nextX) > h):  # this is how you terminate the loop - note use of abs()\n",
    "        newY  = epsilon(nextX,  P, K, Kdash)                     # just for debug... see what happens\n",
    "#         print (newY)     # print out progress... again just debug\n",
    "        lastX = nextX\n",
    "        nextX = lastX - newY / derivative(f, lastX, h, P, K, Kdash)  # update estimate using N-R\n",
    "    return nextX"
   ]
  },
  {
   "cell_type": "code",
   "execution_count": 7,
   "metadata": {},
   "outputs": [],
   "source": [
    "x0 = 1.e-8\n",
    "pressures = adiabat[:,0]\n",
    "depth_a =  adiabat[:,1] / 1e3 # km\n",
    "T_a = adiabat[:,2] + 273\n",
    "strain = np.ones(len(pressures))\n",
    "rho = np.ones(len(pressures))\n",
    "\n",
    "# compositional dependence \n",
    "rho_avg = data['rho'][0] * data['conc'][0] + data['rho'][1] * data['conc'][1] + \\\n",
    "            data['conc'][2] * data['rho'][2]\n",
    "K_avg = ( data['conc'][0] * data['K'][0] + data['conc'][1] * data['K'][1] + data['conc'][2]*data['K'][2])\n",
    "Muavg = ( data['conc'][0] * data['Mu'][0] + data['conc'][1] * data['Mu'][1] + data['conc'][2]*data['Mu'][2])\n",
    "KPDer_avg = ( data['conc'][0] * data['KPDer'][0] + data['conc'][1] * data['KPDer'][1] + \\\n",
    "          data['conc'][2]*data['KPDer'][2])\n",
    "\n",
    "for i in range (len(pressures)):\n",
    "    Ta   = (T_a [ depth_a <= depth[i]].max()) # reference temperature with depth\n",
    "    strain[i]     = solve_ep (epsilon, x0, 1.e-15, pressures[i], K_avg, KPDer_avg) # equation to get x\n",
    "    rho[i] = (( data['conc'][0] *  density ( data['a0'][0], data['a1'][0], data['a2'][0], data['rho'][0], Ta) ) \n",
    "    + ( data['conc'][1] *  density ( data['a0'][1], data['a1'][1], data['a2'][1], data['rho'][1], Ta) )\n",
    "    + ( data['conc'][2] *  density ( data['a0'][2], data['a1'][2], data['a2'][2], data['rho'][2], Ta) ) ) \\\n",
    "    * ( ( 1 - ( 2 * strain[i] ) ) ** (3/2) )"
   ]
  },
  {
   "cell_type": "code",
   "execution_count": 2,
   "metadata": {},
   "outputs": [
    {
     "ename": "NameError",
     "evalue": "name 'data' is not defined",
     "output_type": "error",
     "traceback": [
      "\u001b[0;31m---------------------------------------------------------------------------\u001b[0m",
      "\u001b[0;31mNameError\u001b[0m                                 Traceback (most recent call last)",
      "\u001b[0;32m<ipython-input-2-c92394110e72>\u001b[0m in \u001b[0;36m<module>\u001b[0;34m()\u001b[0m\n\u001b[1;32m      1\u001b[0m \u001b[0;31m# sensitivity of elastic moduli with temperature\u001b[0m\u001b[0;34m\u001b[0m\u001b[0;34m\u001b[0m\u001b[0m\n\u001b[1;32m      2\u001b[0m \u001b[0;34m\u001b[0m\u001b[0m\n\u001b[0;32m----> 3\u001b[0;31m \u001b[0mdelK_T\u001b[0m \u001b[0;34m=\u001b[0m \u001b[0;34m(\u001b[0m \u001b[0mdata\u001b[0m\u001b[0;34m[\u001b[0m\u001b[0;34m'conc'\u001b[0m\u001b[0;34m]\u001b[0m\u001b[0;34m[\u001b[0m\u001b[0;36m0\u001b[0m\u001b[0;34m]\u001b[0m \u001b[0;34m*\u001b[0m \u001b[0mdata\u001b[0m\u001b[0;34m[\u001b[0m\u001b[0;34m'KTDer'\u001b[0m\u001b[0;34m]\u001b[0m\u001b[0;34m[\u001b[0m\u001b[0;36m0\u001b[0m\u001b[0;34m]\u001b[0m \u001b[0;34m+\u001b[0m \u001b[0mdata\u001b[0m\u001b[0;34m[\u001b[0m\u001b[0;34m'conc'\u001b[0m\u001b[0;34m]\u001b[0m\u001b[0;34m[\u001b[0m\u001b[0;36m1\u001b[0m\u001b[0;34m]\u001b[0m \u001b[0;34m*\u001b[0m \u001b[0mdata\u001b[0m\u001b[0;34m[\u001b[0m\u001b[0;34m'KTDer'\u001b[0m\u001b[0;34m]\u001b[0m\u001b[0;34m[\u001b[0m\u001b[0;36m1\u001b[0m\u001b[0;34m]\u001b[0m \u001b[0;34m+\u001b[0m         \u001b[0mdata\u001b[0m\u001b[0;34m[\u001b[0m\u001b[0;34m'conc'\u001b[0m\u001b[0;34m]\u001b[0m\u001b[0;34m[\u001b[0m\u001b[0;36m2\u001b[0m\u001b[0;34m]\u001b[0m\u001b[0;34m*\u001b[0m\u001b[0mdata\u001b[0m\u001b[0;34m[\u001b[0m\u001b[0;34m'KTDer'\u001b[0m\u001b[0;34m]\u001b[0m\u001b[0;34m[\u001b[0m\u001b[0;36m2\u001b[0m\u001b[0;34m]\u001b[0m \u001b[0;34m)\u001b[0m\u001b[0;34m*\u001b[0m\u001b[0;34m(\u001b[0m\u001b[0;36m400\u001b[0m\u001b[0;34m)\u001b[0m\u001b[0;34m\u001b[0m\u001b[0m\n\u001b[0m\u001b[1;32m      4\u001b[0m \u001b[0mdelmu_T\u001b[0m \u001b[0;34m=\u001b[0m \u001b[0;34m(\u001b[0m \u001b[0mdata\u001b[0m\u001b[0;34m[\u001b[0m\u001b[0;34m'conc'\u001b[0m\u001b[0;34m]\u001b[0m\u001b[0;34m[\u001b[0m\u001b[0;36m0\u001b[0m\u001b[0;34m]\u001b[0m \u001b[0;34m*\u001b[0m \u001b[0mdata\u001b[0m\u001b[0;34m[\u001b[0m\u001b[0;34m'MuTDer'\u001b[0m\u001b[0;34m]\u001b[0m\u001b[0;34m[\u001b[0m\u001b[0;36m0\u001b[0m\u001b[0;34m]\u001b[0m \u001b[0;34m+\u001b[0m \u001b[0mdata\u001b[0m\u001b[0;34m[\u001b[0m\u001b[0;34m'conc'\u001b[0m\u001b[0;34m]\u001b[0m\u001b[0;34m[\u001b[0m\u001b[0;36m1\u001b[0m\u001b[0;34m]\u001b[0m \u001b[0;34m*\u001b[0m \u001b[0mdata\u001b[0m\u001b[0;34m[\u001b[0m\u001b[0;34m'MuTDer'\u001b[0m\u001b[0;34m]\u001b[0m\u001b[0;34m[\u001b[0m\u001b[0;36m1\u001b[0m\u001b[0;34m]\u001b[0m \u001b[0;34m+\u001b[0m         \u001b[0mdata\u001b[0m\u001b[0;34m[\u001b[0m\u001b[0;34m'conc'\u001b[0m\u001b[0;34m]\u001b[0m\u001b[0;34m[\u001b[0m\u001b[0;36m2\u001b[0m\u001b[0;34m]\u001b[0m\u001b[0;34m*\u001b[0m\u001b[0mdata\u001b[0m\u001b[0;34m[\u001b[0m\u001b[0;34m'MuTDer'\u001b[0m\u001b[0;34m]\u001b[0m\u001b[0;34m[\u001b[0m\u001b[0;36m2\u001b[0m\u001b[0;34m]\u001b[0m \u001b[0;34m)\u001b[0m\u001b[0;34m*\u001b[0m\u001b[0;34m(\u001b[0m\u001b[0;36m400\u001b[0m\u001b[0;34m)\u001b[0m\u001b[0;34m\u001b[0m\u001b[0m\n",
      "\u001b[0;31mNameError\u001b[0m: name 'data' is not defined"
     ]
    }
   ],
   "source": [
    "# sensitivity of elastic moduli with temperature\n",
    "\n",
    "delK_T = ( data['conc'][0] * data['KTDer'][0] + data['conc'][1] * data['KTDer'][1] +\\\n",
    "         data['conc'][2]*data['KTDer'][2] )*(400)\n",
    "delmu_T = ( data['conc'][0] * data['MuTDer'][0] + data['conc'][1] * data['MuTDer'][1] +\\\n",
    "         data['conc'][2]*data['MuTDer'][2] )*(400)\n"
   ]
  },
  {
   "cell_type": "code",
   "execution_count": 13,
   "metadata": {},
   "outputs": [],
   "source": [
    "# corrections to the moduli\n",
    "def moduli ( To, data, x, comp):\n",
    "    return  ( data['KTDer'][comp] * (x - To) + (4./3) * data['MuTDer'][comp] * (x - To) )\n",
    "        \n",
    "def moduli_der (To, data, x, comp):\n",
    "    return ( data['KPDer'][comp] + (4/3) * data['MuPDer'][comp] ) * \\\n",
    "           ( ( np.exp ( data['a0'][comp] * (x - 300) + ( data['a1'][comp] / 2 ) * (x - 300) ** 2 \\\n",
    "             ) ) * ( data['a0'][comp] + data['a1'][comp] * (x) )  * ( x - To ) ) \n",
    "\n",
    "# function for K and mu\n",
    "def p_modulus ( To, data, x, comp , ep ):   \n",
    "    return ( ( 1 - 2*ep )**(5/2) ) * ( moduli ( To, data, x, comp)   +             ep * ( 5 * moduli ( To, data, x, comp)  - 3 * ( data['KTDer'][comp] ) *            ( x- To ) * ( data['KPDer'][comp]  + (4/3) * data['MuPDer'][comp] ) - 3 * data['K'][comp] *                   ( moduli_der (To, data, x, comp ) ) ) )  \n",
    "\n",
    "def density_der(comp, rho, To, data, x, ep):\n",
    "    return - data['rho'][comp] * np.exp (- data['a0'][comp] * (x - 1300) - ( data['a1'][comp] / 2) * (x**2 - 1300**2)) * ( data['a0'][comp] + data['a1'][comp] * x ) * ( x - To) * ( 1 - 2*ep )**(3/2.) \n"
   ]
  },
  {
   "cell_type": "code",
   "execution_count": 14,
   "metadata": {},
   "outputs": [],
   "source": [
    "# inversion for temperature\n",
    "def double_derivative (f, x, h, delVp, ep, rho, To, data, P, Vso, Vpo):\n",
    "    return (f(x+h, delVp, ep, rho, To, data, P, Vso, Vpo) + f(x-h, delVp, ep, rho, To, data, P, Vso, Vpo) - \\\n",
    "            2 * f(x-h, delVp, ep, rho, To, data, P, Vso, Vpo) ) / (h**2)  \n",
    "\n",
    "def derivative (f, x, h, delVp, ep, rho, To, data, P, Vso, Vpo):\n",
    "    return (f(x+h, delVp, ep, rho, To, data, P, Vso, Vpo) - f(x-h, delVp, ep, rho, To, data, P, Vso, Vpo)  ) / (2 * h)\n",
    "\n",
    "def temperature ( x, delVp, ep, rho, To, data, P, Vso, Vpo):\n",
    "    p_modulus0 = K_avg + (4/3)*Muavg     \n",
    "    return ( 1/(2 * np.sqrt(rho_avg * p_modulus0) ) ) * ( data['conc'][0] *  p_modulus ( To, data, x, 0 , ep ) +\n",
    "            data['conc'][1] *  p_modulus ( To, data, x, 1 , ep ) + data['conc'][2] *\n",
    "            p_modulus ( To, data, x, 2 , ep ) ) - ( ( np.sqrt(p_modulus0)/( 2 * ( (rho_avg) ** 3/2 ) ) ) * \\\n",
    "            ( data['conc'][0] * density_der (0, rho, To, data, x , ep) +  data['conc'][1] * \n",
    "             density_der (1, rho, To, data, x, ep) + data['conc'][2] * density_der (2, rho, To, data, x, ep ) ) ) \\\n",
    "             + ( ( a * H * (4/3) * (Vso/Vpo)**2 ) * ( ( A * ( ( 2*np.pi )**a ) * \n",
    "             np.exp ( a * ( H + P*V ) / ( R * x ) ) ) ** -1 ) /(2 * R * ( To ** 2) * np.tan ( np.pi * a/2 ) ) ) \\\n",
    "             * (x - To) - delVp\n",
    "\n",
    "\n",
    "def solve_T (f, x0, h, delVp, ep, rho, To, data, P, Vso, Vpo):\n",
    "    lastX = x0\n",
    "    nextX = lastX +  10 * h  # \"different than lastX so loop starts OK\n",
    "    while (abs(lastX - nextX) > h):  # terminate the loop      \n",
    "        newY  = temperature (nextX, delVp, ep, rho, To, data, P, Vso, Vpo)          # just for debug... see what happens\n",
    "#         print (newY)     # print out progress.\n",
    "        lastX = nextX\n",
    "        nextX = lastX -  temperature (nextX,  delVp, ep, rho, To, data, P, Vso, Vpo)  /  \\\n",
    "                double_derivative(f, lastX, h,  delVp, ep, rho, To, data, P, Vso, Vpo)  # update estimate using N-R\n",
    "    return nextX"
   ]
  },
  {
   "cell_type": "code",
   "execution_count": 17,
   "metadata": {},
   "outputs": [],
   "source": [
    "# define the arrays used in the inversion \n",
    "Vp_o = np.ones(len(depth)) ; Vs_o = np.ones(len(depth))\n",
    "dVp = np.ones(len(depth)) ; Vp = np.ones(len(depth))\n",
    "To = np.ones(len(depth)) ; ep_cal = np.ones(len(depth))\n",
    "rho_cal = np.ones(len(depth)); T = np.ones(len(depth)) \n",
    "P = np.ones(len(depth)) "
   ]
  },
  {
   "cell_type": "code",
   "execution_count": 23,
   "metadata": {},
   "outputs": [],
   "source": [
    "# invert for temperatures\n",
    "x0 = 500;\n",
    "depth_a =  adiabat[:,1] / 1e3 # tomography is in m, easier for comparison\n",
    "# T_a = adiabat[:,2]\n",
    "\n",
    "for i in range (len(depth)):\n",
    "    data['a2'][:] = 0; # ignore second terms\n",
    "    Vp_o[i]  = (iasp[:,1][iasp[:,0] <= depth[i]].max())*1.e3 # find P wave reference velocity for the tomography\n",
    "    Vs_o[i]  = (iasp[:,2][iasp[:,0] <= depth[i]].max())*1.e3 # find S wave reference velocity for the tomography\n",
    "    To[i]   = (T_ref[:,1][T_ref[:,0] <= depth[i]].max()) + 273# reference temperature with depth\n",
    "    dVp[i]   = delta_vp[i] * Vp_o[i]/100; \n",
    "    Vp[i]    = dVp[i] + Vp_o[i]\n",
    "    ep_cal[i]  = strain [depth_a <= depth[i]].max()\n",
    "    P[i]     = (pressures[depth_a <= depth[i]].max())\n",
    "    rho_cal[i] = rho [depth_a <= depth[i]].max()\n",
    "#     equation to get x\n",
    "    T[i]     = solve_T (temperature, x0, 1,  dVp[i], ep_cal[i], rho_cal[i], To[i], data, P[i], \n",
    "                         Vs_o[i], Vp_o[i])\n"
   ]
  },
  {
   "cell_type": "code",
   "execution_count": 49,
   "metadata": {},
   "outputs": [],
   "source": [
    "np.savetxt('T_inv.txt', T) # inverted temperatures"
   ]
  },
  {
   "cell_type": "code",
   "execution_count": null,
   "metadata": {},
   "outputs": [],
   "source": []
  }
 ],
 "metadata": {
  "kernelspec": {
   "display_name": "Python 3",
   "language": "python",
   "name": "python3"
  },
  "language_info": {
   "codemirror_mode": {
    "name": "ipython",
    "version": 3
   },
   "file_extension": ".py",
   "mimetype": "text/x-python",
   "name": "python",
   "nbconvert_exporter": "python",
   "pygments_lexer": "ipython3",
   "version": "3.6.5"
  }
 },
 "nbformat": 4,
 "nbformat_minor": 2
}
